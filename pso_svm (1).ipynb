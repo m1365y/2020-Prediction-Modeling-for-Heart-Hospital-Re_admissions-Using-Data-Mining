{
 "cells": [
  {
   "cell_type": "code",
   "execution_count": 2,
   "metadata": {
    "colab": {
     "base_uri": "https://localhost:8080/",
     "height": 406
    },
    "colab_type": "code",
    "id": "AT7cccTlRvpO",
    "outputId": "4e5256a9-46fe-4b30-bfad-d4c3e7eb9743"
   },
   "outputs": [
    {
     "data": {
      "text/html": [
       "<div>\n",
       "<style scoped>\n",
       "    .dataframe tbody tr th:only-of-type {\n",
       "        vertical-align: middle;\n",
       "    }\n",
       "\n",
       "    .dataframe tbody tr th {\n",
       "        vertical-align: top;\n",
       "    }\n",
       "\n",
       "    .dataframe thead th {\n",
       "        text-align: right;\n",
       "    }\n",
       "</style>\n",
       "<table border=\"1\" class=\"dataframe\">\n",
       "  <thead>\n",
       "    <tr style=\"text-align: right;\">\n",
       "      <th></th>\n",
       "      <th>age</th>\n",
       "      <th>sex</th>\n",
       "      <th>Cp</th>\n",
       "      <th>trestbps</th>\n",
       "      <th>chol</th>\n",
       "      <th>fbs</th>\n",
       "      <th>restecg</th>\n",
       "      <th>thalach</th>\n",
       "      <th>exang</th>\n",
       "      <th>Oldpeak</th>\n",
       "      <th>slope</th>\n",
       "      <th>ca</th>\n",
       "      <th>Thal</th>\n",
       "      <th>Diagnosis</th>\n",
       "    </tr>\n",
       "  </thead>\n",
       "  <tbody>\n",
       "    <tr>\n",
       "      <th>0</th>\n",
       "      <td>70</td>\n",
       "      <td>1</td>\n",
       "      <td>4</td>\n",
       "      <td>130</td>\n",
       "      <td>322</td>\n",
       "      <td>0</td>\n",
       "      <td>2</td>\n",
       "      <td>109</td>\n",
       "      <td>0</td>\n",
       "      <td>2.4</td>\n",
       "      <td>2</td>\n",
       "      <td>3</td>\n",
       "      <td>3</td>\n",
       "      <td>2</td>\n",
       "    </tr>\n",
       "    <tr>\n",
       "      <th>1</th>\n",
       "      <td>67</td>\n",
       "      <td>0</td>\n",
       "      <td>3</td>\n",
       "      <td>115</td>\n",
       "      <td>564</td>\n",
       "      <td>0</td>\n",
       "      <td>2</td>\n",
       "      <td>160</td>\n",
       "      <td>0</td>\n",
       "      <td>1.6</td>\n",
       "      <td>2</td>\n",
       "      <td>0</td>\n",
       "      <td>7</td>\n",
       "      <td>1</td>\n",
       "    </tr>\n",
       "    <tr>\n",
       "      <th>2</th>\n",
       "      <td>57</td>\n",
       "      <td>1</td>\n",
       "      <td>2</td>\n",
       "      <td>124</td>\n",
       "      <td>261</td>\n",
       "      <td>0</td>\n",
       "      <td>0</td>\n",
       "      <td>141</td>\n",
       "      <td>0</td>\n",
       "      <td>0.3</td>\n",
       "      <td>1</td>\n",
       "      <td>0</td>\n",
       "      <td>7</td>\n",
       "      <td>2</td>\n",
       "    </tr>\n",
       "    <tr>\n",
       "      <th>3</th>\n",
       "      <td>64</td>\n",
       "      <td>1</td>\n",
       "      <td>4</td>\n",
       "      <td>128</td>\n",
       "      <td>263</td>\n",
       "      <td>0</td>\n",
       "      <td>0</td>\n",
       "      <td>105</td>\n",
       "      <td>1</td>\n",
       "      <td>0.2</td>\n",
       "      <td>2</td>\n",
       "      <td>1</td>\n",
       "      <td>7</td>\n",
       "      <td>1</td>\n",
       "    </tr>\n",
       "    <tr>\n",
       "      <th>4</th>\n",
       "      <td>74</td>\n",
       "      <td>0</td>\n",
       "      <td>2</td>\n",
       "      <td>120</td>\n",
       "      <td>269</td>\n",
       "      <td>0</td>\n",
       "      <td>2</td>\n",
       "      <td>121</td>\n",
       "      <td>1</td>\n",
       "      <td>0.2</td>\n",
       "      <td>1</td>\n",
       "      <td>1</td>\n",
       "      <td>3</td>\n",
       "      <td>1</td>\n",
       "    </tr>\n",
       "    <tr>\n",
       "      <th>...</th>\n",
       "      <td>...</td>\n",
       "      <td>...</td>\n",
       "      <td>...</td>\n",
       "      <td>...</td>\n",
       "      <td>...</td>\n",
       "      <td>...</td>\n",
       "      <td>...</td>\n",
       "      <td>...</td>\n",
       "      <td>...</td>\n",
       "      <td>...</td>\n",
       "      <td>...</td>\n",
       "      <td>...</td>\n",
       "      <td>...</td>\n",
       "      <td>...</td>\n",
       "    </tr>\n",
       "    <tr>\n",
       "      <th>294</th>\n",
       "      <td>62</td>\n",
       "      <td>1</td>\n",
       "      <td>4</td>\n",
       "      <td>145</td>\n",
       "      <td>282</td>\n",
       "      <td>0</td>\n",
       "      <td>2</td>\n",
       "      <td>142</td>\n",
       "      <td>1</td>\n",
       "      <td>2.8</td>\n",
       "      <td>2</td>\n",
       "      <td>2</td>\n",
       "      <td>7</td>\n",
       "      <td>2</td>\n",
       "    </tr>\n",
       "    <tr>\n",
       "      <th>295</th>\n",
       "      <td>55</td>\n",
       "      <td>0</td>\n",
       "      <td>4</td>\n",
       "      <td>120</td>\n",
       "      <td>188</td>\n",
       "      <td>0</td>\n",
       "      <td>0</td>\n",
       "      <td>113</td>\n",
       "      <td>0</td>\n",
       "      <td>1.4</td>\n",
       "      <td>2</td>\n",
       "      <td>1</td>\n",
       "      <td>7</td>\n",
       "      <td>2</td>\n",
       "    </tr>\n",
       "    <tr>\n",
       "      <th>296</th>\n",
       "      <td>46</td>\n",
       "      <td>0</td>\n",
       "      <td>2</td>\n",
       "      <td>130</td>\n",
       "      <td>219</td>\n",
       "      <td>0</td>\n",
       "      <td>2</td>\n",
       "      <td>188</td>\n",
       "      <td>0</td>\n",
       "      <td>0.0</td>\n",
       "      <td>1</td>\n",
       "      <td>0</td>\n",
       "      <td>3</td>\n",
       "      <td>1</td>\n",
       "    </tr>\n",
       "    <tr>\n",
       "      <th>297</th>\n",
       "      <td>45</td>\n",
       "      <td>1</td>\n",
       "      <td>4</td>\n",
       "      <td>112</td>\n",
       "      <td>290</td>\n",
       "      <td>0</td>\n",
       "      <td>2</td>\n",
       "      <td>153</td>\n",
       "      <td>0</td>\n",
       "      <td>0.0</td>\n",
       "      <td>1</td>\n",
       "      <td>1</td>\n",
       "      <td>3</td>\n",
       "      <td>2</td>\n",
       "    </tr>\n",
       "    <tr>\n",
       "      <th>298</th>\n",
       "      <td>52</td>\n",
       "      <td>0</td>\n",
       "      <td>3</td>\n",
       "      <td>110</td>\n",
       "      <td>175</td>\n",
       "      <td>0</td>\n",
       "      <td>0</td>\n",
       "      <td>123</td>\n",
       "      <td>0</td>\n",
       "      <td>0.6</td>\n",
       "      <td>1</td>\n",
       "      <td>0</td>\n",
       "      <td>3</td>\n",
       "      <td>1</td>\n",
       "    </tr>\n",
       "  </tbody>\n",
       "</table>\n",
       "<p>299 rows × 14 columns</p>\n",
       "</div>"
      ],
      "text/plain": [
       "     age  sex  Cp  trestbps  chol  ...  Oldpeak  slope  ca  Thal  Diagnosis\n",
       "0     70    1   4       130   322  ...      2.4      2   3     3          2\n",
       "1     67    0   3       115   564  ...      1.6      2   0     7          1\n",
       "2     57    1   2       124   261  ...      0.3      1   0     7          2\n",
       "3     64    1   4       128   263  ...      0.2      2   1     7          1\n",
       "4     74    0   2       120   269  ...      0.2      1   1     3          1\n",
       "..   ...  ...  ..       ...   ...  ...      ...    ...  ..   ...        ...\n",
       "294   62    1   4       145   282  ...      2.8      2   2     7          2\n",
       "295   55    0   4       120   188  ...      1.4      2   1     7          2\n",
       "296   46    0   2       130   219  ...      0.0      1   0     3          1\n",
       "297   45    1   4       112   290  ...      0.0      1   1     3          2\n",
       "298   52    0   3       110   175  ...      0.6      1   0     3          1\n",
       "\n",
       "[299 rows x 14 columns]"
      ]
     },
     "execution_count": 2,
     "metadata": {
      "tags": []
     },
     "output_type": "execute_result"
    }
   ],
   "source": [
    "import pandas as pd\n",
    "data = pd.read_excel('/content/drive/My Drive/New-MRI/data.xls')\n",
    "data"
   ]
  },
  {
   "cell_type": "code",
   "execution_count": 0,
   "metadata": {
    "colab": {},
    "colab_type": "code",
    "id": "Mpk_lSpqR2zL"
   },
   "outputs": [],
   "source": [
    "dataset_data=data.loc[:, data.columns != 'Diagnosis'].values\n",
    "dataset_labels =  data['Diagnosis'].values\n"
   ]
  },
  {
   "cell_type": "code",
   "execution_count": 0,
   "metadata": {
    "colab": {},
    "colab_type": "code",
    "id": "whdly4vdAtkb"
   },
   "outputs": [],
   "source": [
    "from sklearn.svm import SVC\n",
    "params = {'kernel': 'rbf'}\n",
    "classifier = SVC(**params)"
   ]
  },
  {
   "cell_type": "code",
   "execution_count": 0,
   "metadata": {
    "colab": {},
    "colab_type": "code",
    "id": "wERBHgOr_2_7"
   },
   "outputs": [],
   "source": [
    "def f_per_particle(m, alpha):\n",
    "    \"\"\"Computes for the objective function per particle\n",
    "\n",
    "    Inputs\n",
    "    ------\n",
    "    m : numpy.ndarray\n",
    "        Binary mask that can be obtained from BinaryPSO, will\n",
    "        be used to mask features.\n",
    "    alpha: float (default is 0.5)\n",
    "        Constant weight for trading-off classifier performance\n",
    "        and number of features\n",
    "\n",
    "    Returns\n",
    "    -------\n",
    "    numpy.ndarray\n",
    "        Computed objective function\n",
    "    \"\"\"\n",
    "    total_features = 13\n",
    "    # Get the subset of the features from the binary mask\n",
    "    if np.count_nonzero(m) == 0:\n",
    "        X_subset = dataset_data\n",
    "    else:\n",
    "        X_subset = dataset_data[:,m==1]\n",
    "    # Perform classification and store performance in P\n",
    "    classifier.fit(X_subset, dataset_labels)\n",
    "    P = (classifier.predict(X_subset) == dataset_labels).mean()\n",
    "    # Compute for the objective function\n",
    "    j = (alpha * (1.0 - P)\n",
    "        + (1.0 - alpha) * (1 - (X_subset.shape[1] / total_features)))\n",
    "\n",
    "    return j"
   ]
  },
  {
   "cell_type": "code",
   "execution_count": 0,
   "metadata": {
    "colab": {},
    "colab_type": "code",
    "id": "aPpR6ktv_29z"
   },
   "outputs": [],
   "source": [
    "def f(x, alpha=0.88):\n",
    "    \"\"\"Higher-level method to do classification in the\n",
    "    whole swarm.\n",
    "\n",
    "    Inputs\n",
    "    ------\n",
    "    x: numpy.ndarray of shape (n_particles, dimensions)\n",
    "        The swarm that will perform the search\n",
    "\n",
    "    Returns\n",
    "    -------\n",
    "    numpy.ndarray of shape (n_particles, )\n",
    "        The computed loss for each particle\n",
    "    \"\"\"\n",
    "    n_particles = x.shape[0]\n",
    "    j = [f_per_particle(x[i], alpha) for i in range(n_particles)]\n",
    "    return np.array(j)"
   ]
  },
  {
   "cell_type": "code",
   "execution_count": 8,
   "metadata": {
    "colab": {
     "base_uri": "https://localhost:8080/",
     "height": 338
    },
    "colab_type": "code",
    "id": "YIbzRSdiANdO",
    "outputId": "16c2061f-2fea-4dff-8a95-db3e4b85a6b3"
   },
   "outputs": [
    {
     "name": "stdout",
     "output_type": "stream",
     "text": [
      "Collecting pyswarms\n",
      "\u001b[?25l  Downloading https://files.pythonhosted.org/packages/0b/6f/42605c4e111a08a8fbaba953d0783c56ad2913ffa5959bdac53f649502a2/pyswarms-1.1.0-py2.py3-none-any.whl (96kB)\n",
      "\r",
      "\u001b[K     |███▍                            | 10kB 21.9MB/s eta 0:00:01\r",
      "\u001b[K     |██████▉                         | 20kB 2.2MB/s eta 0:00:01\r",
      "\u001b[K     |██████████▎                     | 30kB 3.2MB/s eta 0:00:01\r",
      "\u001b[K     |█████████████▋                  | 40kB 2.0MB/s eta 0:00:01\r",
      "\u001b[K     |█████████████████               | 51kB 2.5MB/s eta 0:00:01\r",
      "\u001b[K     |████████████████████▌           | 61kB 3.0MB/s eta 0:00:01\r",
      "\u001b[K     |███████████████████████▉        | 71kB 3.5MB/s eta 0:00:01\r",
      "\u001b[K     |███████████████████████████▎    | 81kB 3.9MB/s eta 0:00:01\r",
      "\u001b[K     |██████████████████████████████▊ | 92kB 4.4MB/s eta 0:00:01\r",
      "\u001b[K     |████████████████████████████████| 102kB 3.8MB/s \n",
      "\u001b[?25hRequirement already satisfied: matplotlib>=1.3.1 in /usr/local/lib/python3.6/dist-packages (from pyswarms) (3.1.2)\n",
      "Requirement already satisfied: tqdm in /usr/local/lib/python3.6/dist-packages (from pyswarms) (4.28.1)\n",
      "Requirement already satisfied: attrs in /usr/local/lib/python3.6/dist-packages (from pyswarms) (19.3.0)\n",
      "Requirement already satisfied: future in /usr/local/lib/python3.6/dist-packages (from pyswarms) (0.16.0)\n",
      "Requirement already satisfied: numpy in /usr/local/lib/python3.6/dist-packages (from pyswarms) (1.17.5)\n",
      "Requirement already satisfied: scipy in /usr/local/lib/python3.6/dist-packages (from pyswarms) (1.4.1)\n",
      "Requirement already satisfied: pyparsing!=2.0.4,!=2.1.2,!=2.1.6,>=2.0.1 in /usr/local/lib/python3.6/dist-packages (from matplotlib>=1.3.1->pyswarms) (2.4.6)\n",
      "Requirement already satisfied: cycler>=0.10 in /usr/local/lib/python3.6/dist-packages (from matplotlib>=1.3.1->pyswarms) (0.10.0)\n",
      "Requirement already satisfied: python-dateutil>=2.1 in /usr/local/lib/python3.6/dist-packages (from matplotlib>=1.3.1->pyswarms) (2.6.1)\n",
      "Requirement already satisfied: kiwisolver>=1.0.1 in /usr/local/lib/python3.6/dist-packages (from matplotlib>=1.3.1->pyswarms) (1.1.0)\n",
      "Requirement already satisfied: six in /usr/local/lib/python3.6/dist-packages (from cycler>=0.10->matplotlib>=1.3.1->pyswarms) (1.12.0)\n",
      "Requirement already satisfied: setuptools in /usr/local/lib/python3.6/dist-packages (from kiwisolver>=1.0.1->matplotlib>=1.3.1->pyswarms) (42.0.2)\n",
      "Installing collected packages: pyswarms\n",
      "Successfully installed pyswarms-1.1.0\n"
     ]
    }
   ],
   "source": [
    "!pip install pyswarms"
   ]
  },
  {
   "cell_type": "code",
   "execution_count": 11,
   "metadata": {
    "colab": {
     "base_uri": "https://localhost:8080/",
     "height": 818
    },
    "colab_type": "code",
    "id": "oBy7pg_J_27q",
    "outputId": "6e9fff79-dc5d-460f-9a69-67a5f7e2aecf"
   },
   "outputs": [
    {
     "name": "stderr",
     "output_type": "stream",
     "text": [
      "2020-02-02 13:08:21,641 - pyswarms.discrete.binary - INFO - Optimize for 20 iters with {'c1': 0.5, 'c2': 0.5, 'w': 0.9, 'k': 30, 'p': 2}\n",
      "\n",
      "pyswarms.discrete.binary:   0%|          |0/20\u001b[A\n",
      "pyswarms.discrete.binary:   0%|          |0/20, best_cost=0.306\u001b[A\n",
      "pyswarms.discrete.binary:   5%|▌         |1/20, best_cost=0.306\u001b[A\n",
      "pyswarms.discrete.binary:   5%|▌         |1/20, best_cost=0.284\u001b[A\n",
      "pyswarms.discrete.binary:  10%|█         |2/20, best_cost=0.284\u001b[A\n",
      "pyswarms.discrete.binary:  10%|█         |2/20, best_cost=0.284\u001b[A\n",
      "pyswarms.discrete.binary:  15%|█▌        |3/20, best_cost=0.284\u001b[A\n",
      "pyswarms.discrete.binary:  15%|█▌        |3/20, best_cost=0.284\u001b[A\n",
      "pyswarms.discrete.binary:  20%|██        |4/20, best_cost=0.284\u001b[A\n",
      "pyswarms.discrete.binary:  20%|██        |4/20, best_cost=0.284\u001b[A\n",
      "pyswarms.discrete.binary:  25%|██▌       |5/20, best_cost=0.284\u001b[A\n",
      "pyswarms.discrete.binary:  25%|██▌       |5/20, best_cost=0.284\u001b[A\n",
      "pyswarms.discrete.binary:  30%|███       |6/20, best_cost=0.284\u001b[A\n",
      "pyswarms.discrete.binary:  30%|███       |6/20, best_cost=0.284\u001b[A\n",
      "pyswarms.discrete.binary:  35%|███▌      |7/20, best_cost=0.284\u001b[A\n",
      "pyswarms.discrete.binary:  35%|███▌      |7/20, best_cost=0.194\u001b[A\n",
      "pyswarms.discrete.binary:  40%|████      |8/20, best_cost=0.194\u001b[A\n",
      "pyswarms.discrete.binary:  40%|████      |8/20, best_cost=0.194\u001b[A\n",
      "pyswarms.discrete.binary:  45%|████▌     |9/20, best_cost=0.194\u001b[A\n",
      "pyswarms.discrete.binary:  45%|████▌     |9/20, best_cost=0.194\u001b[A\n",
      "pyswarms.discrete.binary:  50%|█████     |10/20, best_cost=0.194\u001b[A\n",
      "pyswarms.discrete.binary:  50%|█████     |10/20, best_cost=0.194\u001b[A\n",
      "pyswarms.discrete.binary:  55%|█████▌    |11/20, best_cost=0.194\u001b[A\n",
      "pyswarms.discrete.binary:  55%|█████▌    |11/20, best_cost=0.194\u001b[A\n",
      "pyswarms.discrete.binary:  60%|██████    |12/20, best_cost=0.194\u001b[A\n",
      "pyswarms.discrete.binary:  60%|██████    |12/20, best_cost=0.194\u001b[A\n",
      "pyswarms.discrete.binary:  65%|██████▌   |13/20, best_cost=0.194\u001b[A\n",
      "pyswarms.discrete.binary:  65%|██████▌   |13/20, best_cost=0.194\u001b[A\n",
      "pyswarms.discrete.binary:  70%|███████   |14/20, best_cost=0.194\u001b[A\n",
      "pyswarms.discrete.binary:  70%|███████   |14/20, best_cost=0.194\u001b[A\n",
      "pyswarms.discrete.binary:  75%|███████▌  |15/20, best_cost=0.194\u001b[A\n",
      "pyswarms.discrete.binary:  75%|███████▌  |15/20, best_cost=0.194\u001b[A\n",
      "pyswarms.discrete.binary:  80%|████████  |16/20, best_cost=0.194\u001b[A\n",
      "pyswarms.discrete.binary:  80%|████████  |16/20, best_cost=0.194\u001b[A\n",
      "pyswarms.discrete.binary:  85%|████████▌ |17/20, best_cost=0.194\u001b[A\n",
      "pyswarms.discrete.binary:  85%|████████▌ |17/20, best_cost=0.194\u001b[A\n",
      "pyswarms.discrete.binary:  90%|█████████ |18/20, best_cost=0.194\u001b[A\n",
      "pyswarms.discrete.binary:  90%|█████████ |18/20, best_cost=0.194\u001b[A\n",
      "pyswarms.discrete.binary:  95%|█████████▌|19/20, best_cost=0.194\u001b[A\n",
      "pyswarms.discrete.binary:  95%|█████████▌|19/20, best_cost=0.194\u001b[A\n",
      "pyswarms.discrete.binary: 100%|██████████|20/20, best_cost=0.194\u001b[A\n",
      "\u001b[A2020-02-02 13:08:25,523 - pyswarms.discrete.binary - INFO - Optimization finished | best cost: 0.19371237458193982, best pos: [0 1 1 0 0 1 1 0 1 0 1 1 0]\n"
     ]
    }
   ],
   "source": [
    "import pyswarms as ps\n",
    "import numpy as np\n",
    "options = {'c1': 0.5, 'c2': 0.5, 'w':0.9, 'k': 30, 'p':2}\n",
    "\n",
    "# Call instance of PSO\n",
    "dimensions = 13 # dimensions should be the number of features\n",
    "\n",
    "optimizer = ps.discrete.BinaryPSO(n_particles=30, dimensions=13, options=options)\n",
    "\n",
    "# Perform optimization\n",
    "cost, pos = optimizer.optimize(f,  iters=20)"
   ]
  },
  {
   "cell_type": "code",
   "execution_count": 0,
   "metadata": {
    "colab": {},
    "colab_type": "code",
    "id": "JOZKbS7M_24d"
   },
   "outputs": [],
   "source": [
    "X_selected_features = dataset_data[:,pos==1]"
   ]
  },
  {
   "cell_type": "code",
   "execution_count": 15,
   "metadata": {
    "colab": {
     "base_uri": "https://localhost:8080/",
     "height": 34
    },
    "colab_type": "code",
    "id": "2NN8CS-_R2--",
    "outputId": "51628203-70ee-4d8b-9097-1f9104f0a7aa"
   },
   "outputs": [
    {
     "data": {
      "text/plain": [
       "array([0.8       , 0.76666667, 0.86666667, 0.73333333, 0.81355932])"
      ]
     },
     "execution_count": 15,
     "metadata": {
      "tags": []
     },
     "output_type": "execute_result"
    }
   ],
   "source": [
    "from sklearn.model_selection import cross_val_score\n",
    "scores = cross_val_score(classifier ,X_selected_features, dataset_labels, cv=5)\n",
    "scores"
   ]
  },
  {
   "cell_type": "code",
   "execution_count": 16,
   "metadata": {
    "colab": {
     "base_uri": "https://localhost:8080/",
     "height": 34
    },
    "colab_type": "code",
    "id": "_1PPPLNTR289",
    "outputId": "c07d177a-0422-44db-a1f2-5e5eec01f8ab"
   },
   "outputs": [
    {
     "name": "stdout",
     "output_type": "stream",
     "text": [
      "Accuracy: 0.80 (+/- 0.09)\n"
     ]
    }
   ],
   "source": [
    "print(\"Accuracy: %0.2f (+/- %0.2f)\" % (scores.mean(), scores.std() * 2))"
   ]
  },
  {
   "cell_type": "code",
   "execution_count": 0,
   "metadata": {
    "colab": {},
    "colab_type": "code",
    "id": "VclXWY6tR27E"
   },
   "outputs": [],
   "source": [
    "from sklearn.model_selection import cross_val_predict\n",
    "from sklearn.metrics import confusion_matrix\n",
    "y_pred = cross_val_predict(classifier ,X_selected_features, dataset_labels, cv=5)\n",
    "labels = [1,2]\n",
    "cm = confusion_matrix(dataset_labels, y_pred, labels)\n",
    "import pandas as pd\n",
    "df_cm = pd.DataFrame(cm)"
   ]
  },
  {
   "cell_type": "code",
   "execution_count": 20,
   "metadata": {
    "colab": {
     "base_uri": "https://localhost:8080/",
     "height": 334
    },
    "colab_type": "code",
    "id": "8NldnFcsR2tW",
    "outputId": "cf6702e7-4db4-49f9-d726-d4614e4f4e11"
   },
   "outputs": [
    {
     "name": "stderr",
     "output_type": "stream",
     "text": [
      "2020-02-02 13:47:52,287 - numexpr.utils - INFO - Note: NumExpr detected 40 cores but \"NUMEXPR_MAX_THREADS\" not set, so enforcing safe limit of 8.\n",
      "2020-02-02 13:47:52,288 - numexpr.utils - INFO - NumExpr defaulting to 8 threads.\n"
     ]
    },
    {
     "data": {
      "image/png": "[encoded data removed]",
      "text/plain": [
       "<Figure size 432x288 with 2 Axes>"
      ]
     },
     "metadata": {
      "tags": []
     },
     "output_type": "display_data"
    }
   ],
   "source": [
    "import seaborn as sns\n",
    "import matplotlib.pyplot as plt\n",
    "labels = [1,2]\n",
    "cm = confusion_matrix(dataset_labels, y_pred, labels)\n",
    "ax = sns.heatmap(df_cm, annot=True ,fmt=\"d\") \n",
    "bottom, top = ax.get_ylim()\n",
    "ax.set_ylim(bottom + 0.5, top - 0.5)\n",
    "ax.set_xticklabels([2] + labels)\n",
    "ax.set_yticklabels([2] + labels)\n",
    "plt.xlabel('predict label')\n",
    "plt.ylabel('true label' )\n",
    "plt.show()"
   ]
  },
  {
   "cell_type": "code",
   "execution_count": 21,
   "metadata": {
    "colab": {
     "base_uri": "https://localhost:8080/",
     "height": 52
    },
    "colab_type": "code",
    "id": "dcI9AFDeVsDS",
    "outputId": "db3da7f2-32bc-49e4-f8b5-0ea57a4f7943"
   },
   "outputs": [
    {
     "name": "stdout",
     "output_type": "stream",
     "text": [
      "0.8727272727272727\n",
      "0.7014925373134329\n"
     ]
    }
   ],
   "source": [
    "tn, fp, fn, tp = confusion_matrix(dataset_labels, y_pred).ravel()\n",
    "specificity = tn / (tn+fp)\n",
    "print(specificity)\n",
    "sensitivity =  tp / (tp + fn)\n",
    "print(sensitivity) "
   ]
  }
 ],
 "metadata": {
  "accelerator": "TPU",
  "colab": {
   "collapsed_sections": [],
   "machine_shape": "hm",
   "name": "auto_35_(1).ipynb",
   "provenance": [],
   "toc_visible": true
  },
  "kernelspec": {
   "display_name": "Python 3",
   "language": "python",
   "name": "python3"
  },
  "language_info": {
   "codemirror_mode": {
    "name": "ipython",
    "version": 3
   },
   "file_extension": ".py",
   "mimetype": "text/x-python",
   "name": "python",
   "nbconvert_exporter": "python",
   "pygments_lexer": "ipython3",
   "version": "3.7.4"
  }
 },
 "nbformat": 4,
 "nbformat_minor": 1
}
